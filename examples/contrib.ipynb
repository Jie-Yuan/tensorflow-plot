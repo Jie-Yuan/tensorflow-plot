{
 "cells": [
  {
   "cell_type": "markdown",
   "metadata": {},
   "source": [
    "# `tfplot.contrib`: Some pre-defined plot ops"
   ]
  },
  {
   "cell_type": "markdown",
   "metadata": {},
   "source": [
    "The `tfplot.contrib` package contains some off-the-shelf functions for defining plotting operations.\n",
    "This package provides some off-the-shelf functions that could be useful widely across many typical use cases.\n",
    "\n",
    "Unfortunately, it may not provide super flexible and fine-grained customization points beyond the current parameters. If it does not fit what you want to get, then consider designing your own plotting functions using `tfplot.autowrap`."
   ]
  },
  {
   "cell_type": "code",
   "execution_count": 1,
   "metadata": {
    "nbsphinx": "hidden"
   },
   "outputs": [],
   "source": [
    "%load_ext autoreload\n",
    "%autoreload 2"
   ]
  },
  {
   "cell_type": "code",
   "execution_count": 2,
   "metadata": {
    "nbsphinx": "hidden"
   },
   "outputs": [],
   "source": [
    "%matplotlib inline\n",
    "import matplotlib.pyplot as plt\n",
    "\n",
    "from matplotlib import rcParams, rc\n",
    "from IPython.core.pylabtools import figsize\n",
    "figsize(5, 4)\n",
    "\n",
    "%config InlineBackend.figure_format = 'retina'"
   ]
  },
  {
   "cell_type": "markdown",
   "metadata": {
    "nbsphinx": "hidden"
   },
   "source": [
    "## Setup (Skip this!)"
   ]
  },
  {
   "cell_type": "code",
   "execution_count": 3,
   "metadata": {
    "nbsphinx": "hidden"
   },
   "outputs": [],
   "source": [
    "import numpy as np\n",
    "import tensorflow as tf\n",
    "\n",
    "sess = tf.InteractiveSession()"
   ]
  },
  {
   "cell_type": "code",
   "execution_count": 4,
   "metadata": {
    "nbsphinx": "hidden"
   },
   "outputs": [],
   "source": [
    "from PIL import Image\n",
    "def execute_op_as_image(op):\n",
    "    \"\"\"\n",
    "    Evaluate the given `op` and return the content PNG image as `PIL.Image`.\n",
    "    \n",
    "    - If op is a plot op (e.g. RGBA Tensor) the image or\n",
    "      a list of images will be returned\n",
    "    - If op is summary proto (i.e. `op` was a summary op),\n",
    "      the image content will be extracted from the proto object.\n",
    "    \"\"\"\n",
    "    print (\"Executing: \" + str(op))\n",
    "    ret = sess.run(op)\n",
    "    plt.close()\n",
    "\n",
    "    if isinstance(ret, np.ndarray):\n",
    "        if len(ret.shape) == 3:\n",
    "            # single image\n",
    "            return Image.fromarray(ret)\n",
    "        elif len(ret.shape) == 4:\n",
    "            return [Image.fromarray(r) for r in ret]\n",
    "        else:\n",
    "            raise ValueError(\"Invalid rank : %d\" % len(ret.shape))            \n",
    "            \n",
    "    elif isinstance(ret, (str, bytes)):\n",
    "        from io import BytesIO\n",
    "        s = tf.Summary()\n",
    "        s.ParseFromString(ret)\n",
    "        ims = []\n",
    "        for i in range(len(s.value)):\n",
    "            png_string = s.value[i].image.encoded_image_string\n",
    "            im = Image.open(BytesIO(png_string))\n",
    "            ims.append(im)\n",
    "        plt.close()\n",
    "        if len(ims) == 1: return ims[0]\n",
    "        else: return ims\n",
    "        \n",
    "    else:\n",
    "        raise TypeError(\"Unknown type: \" + str(ret))"
   ]
  },
  {
   "cell_type": "code",
   "execution_count": 5,
   "metadata": {
    "nbsphinx": "hidden"
   },
   "outputs": [],
   "source": [
    "def fake_attention():\n",
    "    import scipy.ndimage\n",
    "    attention = np.zeros([16, 16], dtype=np.float32)\n",
    "    attention[(11, 8)] = 1.0\n",
    "    attention[(9, 9)] = 1.0\n",
    "    attention = scipy.ndimage.filters.gaussian_filter(attention, sigma=1.5)\n",
    "    return attention\n",
    "\n",
    "import scipy\n",
    "sample_image = scipy.misc.face()\n",
    "attention_map = fake_attention()"
   ]
  },
  {
   "cell_type": "code",
   "execution_count": 6,
   "metadata": {},
   "outputs": [
    {
     "name": "stdout",
     "output_type": "stream",
     "text": [
      "batch                Make an autowrapped plot function (... -> RGBA tf.Tensor) work in a batch\n",
      "probmap              Display a heatmap in color. The resulting op will be a RGBA image Tensor.\n",
      "probmap_simple       Display a heatmap in color, but only displays the image content.\n"
     ]
    }
   ],
   "source": [
    "import tfplot.contrib\n",
    "\n",
    "for fn in sorted(tfplot.contrib.__all__):\n",
    "    print(\"%-20s\" % fn, tfplot.contrib.__dict__[fn].__doc__.split('\\n')[1].strip())"
   ]
  },
  {
   "cell_type": "markdown",
   "metadata": {},
   "source": [
    "## probmap"
   ]
  },
  {
   "cell_type": "markdown",
   "metadata": {},
   "source": [
    "For example, `probmap` and `probmap_simple` create an image Tensor that visualizes a probability map:"
   ]
  },
  {
   "cell_type": "code",
   "execution_count": 7,
   "metadata": {},
   "outputs": [
    {
     "name": "stdout",
     "output_type": "stream",
     "text": [
      "Tensor(\"attention_op:0\", shape=(16, 16), dtype=float32)\n",
      "Executing: Tensor(\"probmap:0\", shape=(?, ?, 4), dtype=uint8)\n"
     ]
    },
    {
     "data": {
      "image/png": "[encoded data removed]",
      "text/plain": [
       "<PIL.Image.Image image mode=RGBA size=288x216 at 0x108C51EF0>"
      ]
     },
     "execution_count": 7,
     "metadata": {},
     "output_type": "execute_result"
    }
   ],
   "source": [
    "attention_op = tf.constant(attention_map, name=\"attention_op\")\n",
    "print(attention_op)\n",
    "\n",
    "op = tfplot.contrib.probmap(attention_map, figsize=(4, 3))\n",
    "execute_op_as_image(op)"
   ]
  },
  {
   "cell_type": "code",
   "execution_count": 8,
   "metadata": {},
   "outputs": [
    {
     "name": "stdout",
     "output_type": "stream",
     "text": [
      "Executing: Tensor(\"probmap_1:0\", shape=(?, ?, 4), dtype=uint8)\n"
     ]
    },
    {
     "data": {
      "image/png": "[encoded data removed]",
      "text/plain": [
       "<PIL.Image.Image image mode=RGBA size=216x216 at 0x128049B00>"
      ]
     },
     "execution_count": 8,
     "metadata": {},
     "output_type": "execute_result"
    }
   ],
   "source": [
    "op = tfplot.contrib.probmap_simple(attention_map, figsize=(3, 3),\n",
    "                                   vmin=0, vmax=1)\n",
    "execute_op_as_image(op)"
   ]
  },
  {
   "cell_type": "markdown",
   "metadata": {},
   "source": [
    "## Auto-batch mode (`tfplot.contrib.batch`)"
   ]
  },
  {
   "cell_type": "markdown",
   "metadata": {},
   "source": [
    "In many cases, we may want to make plotting operations behave in a batch manner. You can use `tfplot.contrib.batch` to make those functions work in a batch mode:"
   ]
  },
  {
   "cell_type": "code",
   "execution_count": 9,
   "metadata": {},
   "outputs": [
    {
     "name": "stdout",
     "output_type": "stream",
     "text": [
      "Tensor(\"batch_tensor:0\", shape=(5, 5, 5), dtype=float64)\n",
      "Executing: Tensor(\"probmap_2/PlotImages:0\", shape=(5, ?, ?, 4), dtype=uint8)\n"
     ]
    },
    {
     "data": {
      "image/png": "[encoded data removed]",
      "text/plain": [
       "<PIL.Image.Image image mode=RGBA size=1080x144 at 0x128084A58>"
      ]
     },
     "execution_count": 9,
     "metadata": {},
     "output_type": "execute_result"
    }
   ],
   "source": [
    "# batch version\n",
    "N = 5\n",
    "p = np.zeros([N, N, N])\n",
    "for i in range(N):\n",
    "    p[i, i, i] = 1.0\n",
    "\n",
    "p = tf.constant(p, name=\"batch_tensor\"); print(p)                      # (batch_size, 5, 5)\n",
    "op = tfplot.contrib.batch(tfplot.contrib.probmap)(p, figsize=(3, 2))   # (batch_size, H, W, 4)\n",
    "\n",
    "results = execute_op_as_image(op)      # list of N images\n",
    "Image.fromarray(np.hstack([np.asarray(im) for im in results]))"
   ]
  }
 ],
 "metadata": {
  "kernelspec": {
   "display_name": "Python 3",
   "language": "python",
   "name": "python3"
  },
  "language_info": {
   "codemirror_mode": {
    "name": "ipython",
    "version": 3
   },
   "file_extension": ".py",
   "mimetype": "text/x-python",
   "name": "python",
   "nbconvert_exporter": "python",
   "pygments_lexer": "ipython3",
   "version": "3.6.2"
  }
 },
 "nbformat": 4,
 "nbformat_minor": 2
}
